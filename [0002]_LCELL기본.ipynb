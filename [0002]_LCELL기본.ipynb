{
 "cells": [
  {
   "cell_type": "markdown",
   "metadata": {},
   "source": [
    "## LCELL 기본"
   ]
  },
  {
   "cell_type": "code",
   "execution_count": null,
   "metadata": {},
   "outputs": [],
   "source": [
    "# 환경 변수 로드\n",
    "from dotenv import load_dotenv, find_dotenv\n",
    "load_dotenv(find_dotenv(), override=True)\n",
    "\n",
    "# LangChain관련 라이브러리 로드\n",
    "from langchain_openai import ChatOpenAI\n",
    "from langchain_core.prompts import PromptTemplate\n",
    "from langchain_core.output_parsers import StrOutputParser\n",
    "\n",
    "# 객체 생성, ChatModel 사용\n",
    "llm = ChatOpenAI(model = \"gpt-3.5-turbo\")\n",
    "output_parser = StrOutputParser()\n",
    "\n",
    "# 입력 템플릿 정의, 파라미터 없음\n",
    "template = \"\"\"You are a helpful assistant. Hello?\"\"\"\n",
    "prompt = PromptTemplate.from_template(template)\n",
    "\n",
    "# LCELL을 사용한 Chain 정의\n",
    "chain = prompt | llm | output_parser\n",
    "\n",
    "# Chain 실행 및 결과 출력\n",
    "print(chain.invoke({}))\n"
   ]
  }
 ],
 "metadata": {
  "language_info": {
   "name": "python"
  }
 },
 "nbformat": 4,
 "nbformat_minor": 2
}
