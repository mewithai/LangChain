{
 "cells": [
  {
   "cell_type": "markdown",
   "metadata": {},
   "source": [
    "## 환경설정\n",
    "\n",
    "`.env`파일에 모든 것을 다 때려넣고 load시켜서 쓴다."
   ]
  },
  {
   "cell_type": "code",
   "execution_count": null,
   "metadata": {
    "vscode": {
     "languageId": "plaintext"
    }
   },
   "outputs": [],
   "source": [
    "## Load Config\n",
    "from dotenv import load_dotenv, find_dotenv\n",
    "load_dotenv(find_dotenv(), override=True)\n"
   ]
  },
  {
   "cell_type": "markdown",
   "metadata": {},
   "source": [
    "## `.env`파일의 샘플\n",
    "\n",
    "```\n",
    "BOT_API_KEY = 어쩌구저쩌구\n",
    "OPENAI_API_KEY = 어쩌구저쩌구\n",
    "TPINECONE_API_KEY = 어쩌구저쩌구\n",
    "highorder_PINECONE_API_KEY = 어쩌구저쩌구\n",
    "ELEVENLABS_API_KEY = 어쩌구저쩌구\n",
    "\n",
    "NAVER_CLIENT_ID = 어쩌구저쩌구  # 네이버 개발자 센터에서 발급받은 클라이언트 ID\n",
    "NAVER_CLIENT_SECRET = 어쩌구저쩌구  # 네이버 개발자 센터에서 발급받은 클라이언트 Secret\n",
    " \n",
    "LANGCHAIN_TRACING_V2 = 어쩌구저쩌구\n",
    "LANGCHAIN_ENDPOINT= https://api.smith.langchain.com\n",
    "LANGCHAIN_API_KEY = 어쩌구저쩌구\n",
    "LANGCHAIN_PROJECT = 어쩌구저쩌구\n",
    "\n",
    "SNGDB_HOST = 어쩌구저쩌구\n",
    "SNGDB_PORT = 숫자놀이\n",
    "SNGDB_ID = 어쩌구저쩌구\n",
    "SNGDB_PW = 어쩌구저쩌구\n",
    "```"
   ]
  }
 ],
 "metadata": {
  "language_info": {
   "name": "python"
  }
 },
 "nbformat": 4,
 "nbformat_minor": 2
}
